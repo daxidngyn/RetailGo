{
  "nbformat": 4,
  "nbformat_minor": 0,
  "metadata": {
    "colab": {
      "provenance": [],
      "gpuType": "T4"
    },
    "kernelspec": {
      "name": "python3",
      "display_name": "Python 3"
    },
    "language_info": {
      "name": "python"
    },
    "accelerator": "GPU"
  },
  "cells": [
    {
      "cell_type": "markdown",
      "source": [
        "**Dataset:**\n",
        "\n",
        "I've downloaded a large subset of the item-review data json files. The first thing to do, is to get rid of all the extra attributes."
      ],
      "metadata": {
        "id": "nDRyW-VsHZsU"
      }
    },
    {
      "cell_type": "markdown",
      "source": [
        "I just want all the item descriptions to pretrain fast text on"
      ],
      "metadata": {
        "id": "xYm2IHi2q6g6"
      }
    },
    {
      "cell_type": "code",
      "execution_count": 2,
      "metadata": {
        "id": "Mu3Ubz4-HQi9",
        "colab": {
          "base_uri": "https://localhost:8080/"
        },
        "outputId": "43a2b775-5bc6-41fc-fb07-43c81d1558e9"
      },
      "outputs": [
        {
          "output_type": "stream",
          "name": "stdout",
          "text": [
            "Mounted at /content/gdrive/\n"
          ]
        }
      ],
      "source": [
        "from google.colab import drive\n",
        "\n",
        "drive.mount('/content/gdrive/', force_remount=True)"
      ]
    },
    {
      "cell_type": "code",
      "source": [
        "%cd gdrive\n",
        "%cd MyDrive/\n",
        "%cd \"RetailGo RecSys\"\n",
        "%cd \"Experiments (Amazon Products)\"\n",
        "%cd \"Datasets\""
      ],
      "metadata": {
        "colab": {
          "base_uri": "https://localhost:8080/"
        },
        "id": "KxO3x7okwEw_",
        "outputId": "c084e31d-7b34-46a5-8271-e80e30fbebc6"
      },
      "execution_count": 3,
      "outputs": [
        {
          "output_type": "stream",
          "name": "stdout",
          "text": [
            "/content/gdrive\n",
            "/content/gdrive/MyDrive\n",
            "/content/gdrive/MyDrive/RetailGo RecSys\n",
            "/content/gdrive/MyDrive/RetailGo RecSys/Experiments (Amazon Products)\n",
            "/content/gdrive/MyDrive/RetailGo RecSys/Experiments (Amazon Products)/Datasets\n"
          ]
        }
      ]
    },
    {
      "cell_type": "code",
      "source": [
        "!pip install tqdm --q\n",
        "!pip install nltk"
      ],
      "metadata": {
        "id": "Vf_7tqhIpxEN",
        "colab": {
          "base_uri": "https://localhost:8080/"
        },
        "outputId": "b073d00d-1685-4189-8fa2-a69eff4e3921"
      },
      "execution_count": 4,
      "outputs": [
        {
          "output_type": "stream",
          "name": "stdout",
          "text": [
            "Requirement already satisfied: nltk in /usr/local/lib/python3.10/dist-packages (3.8.1)\n",
            "Requirement already satisfied: click in /usr/local/lib/python3.10/dist-packages (from nltk) (8.1.7)\n",
            "Requirement already satisfied: joblib in /usr/local/lib/python3.10/dist-packages (from nltk) (1.3.2)\n",
            "Requirement already satisfied: regex>=2021.8.3 in /usr/local/lib/python3.10/dist-packages (from nltk) (2023.6.3)\n",
            "Requirement already satisfied: tqdm in /usr/local/lib/python3.10/dist-packages (from nltk) (4.66.1)\n"
          ]
        }
      ]
    },
    {
      "cell_type": "code",
      "source": [
        "import os\n",
        "import json\n",
        "from tqdm import tqdm\n",
        "import re"
      ],
      "metadata": {
        "id": "-40F1sbTi1Fz"
      },
      "execution_count": 5,
      "outputs": []
    },
    {
      "cell_type": "code",
      "source": [
        "import nltk\n",
        "from nltk.corpus import stopwords\n",
        "nltk.download(\"stopwords\")\n",
        "!pip install gensim --q"
      ],
      "metadata": {
        "colab": {
          "base_uri": "https://localhost:8080/"
        },
        "id": "I54zfQzTe2Be",
        "outputId": "82a3085c-fa73-4f6e-e7ef-cd6f8cfb657a"
      },
      "execution_count": 6,
      "outputs": [
        {
          "output_type": "stream",
          "name": "stderr",
          "text": [
            "[nltk_data] Downloading package stopwords to /root/nltk_data...\n",
            "[nltk_data]   Package stopwords is already up-to-date!\n"
          ]
        },
        {
          "output_type": "execute_result",
          "data": {
            "text/plain": [
              "True"
            ]
          },
          "metadata": {},
          "execution_count": 6
        }
      ]
    },
    {
      "cell_type": "code",
      "source": [
        "stopwords = stopwords.words(\"english\")"
      ],
      "metadata": {
        "id": "luPMdp0EfFCU"
      },
      "execution_count": 7,
      "outputs": []
    },
    {
      "cell_type": "code",
      "source": [
        "def preprocess(description):\n",
        "\n",
        "  if type(description) == list:\n",
        "    description = ' '.join(description)\n",
        "\n",
        "  # Drop all non-letter characters\n",
        "  description = re.sub(\"[^a-zA-Z ]\", \"\", description)\n",
        "\n",
        "  # Split by space\n",
        "  description = description.split()\n",
        "\n",
        "  # Remove stopwords.\n",
        "  return [word for word in description if word not in stopwords and len(word) > 2]\n",
        "\n",
        "preprocess(\"Some text that has, 32 ounces -- per case numbers: 10gou sohrguohsrguh\")"
      ],
      "metadata": {
        "colab": {
          "base_uri": "https://localhost:8080/"
        },
        "id": "kn5Y689jcDW-",
        "outputId": "699c6968-2682-40d6-9e46-ce5bec7516d8"
      },
      "execution_count": 8,
      "outputs": [
        {
          "output_type": "execute_result",
          "data": {
            "text/plain": [
              "['Some', 'text', 'ounces', 'per', 'case', 'numbers', 'gou', 'sohrguohsrguh']"
            ]
          },
          "metadata": {},
          "execution_count": 8
        }
      ]
    },
    {
      "cell_type": "code",
      "source": [
        "product_descriptions = []\n",
        "\n",
        "number_of_products_per_category = 2000\n",
        "\n",
        "for category in tqdm(os.listdir()):\n",
        "\n",
        "  if \".json\" not in category:\n",
        "    continue\n",
        "\n",
        "  number_of_products_in_category = 0\n",
        "\n",
        "  # For each category, iterate through each item.\n",
        "  with open(category, \"r+\") as products:\n",
        "    for product_line in products.readlines():\n",
        "        if number_of_products_in_category > number_of_products_per_category:\n",
        "          break\n",
        "        product = json.loads(product_line)\n",
        "        try:\n",
        "          if \"description\" not in product:\n",
        "            continue\n",
        "\n",
        "          product_words = preprocess(product[\"description\"])\n",
        "\n",
        "          if len(product_words) == 0:\n",
        "            continue\n",
        "\n",
        "          product_descriptions.append(product_words)\n",
        "          number_of_products_in_category += 1\n",
        "\n",
        "        except:\n",
        "          assert False\n",
        "\n",
        "  print(\"\\nFor category:\", category, \"Sample Product Description:\", product_descriptions[-1])"
      ],
      "metadata": {
        "colab": {
          "base_uri": "https://localhost:8080/"
        },
        "id": "Xp5igvhXoMPa",
        "outputId": "628b6a60-0895-498f-b384-40eb3f800fbf"
      },
      "execution_count": 40,
      "outputs": [
        {
          "output_type": "stream",
          "name": "stderr",
          "text": [
            "  9%|▉         | 1/11 [00:03<00:33,  3.36s/it]"
          ]
        },
        {
          "output_type": "stream",
          "name": "stdout",
          "text": [
            "\n",
            "For category: meta_Grocery_and_Gourmet_Food.json Sample Product Description: ['Net', 'Carbs', 'Total', 'Carbs', 'NonImpact', 'Carbs', 'gThe', 'nonimpact', 'carbs', 'derived', 'Maltitol', 'sugar', 'alcohol', 'dietary', 'fiber', 'Milk', 'Chocolate', 'lovers', 'dream', 'Includes', 'delightful', 'assortment', 'Sugar', 'Added', 'Milk', 'Chocolate', 'bars', 'Maltitol', 'wheat', 'gluten', 'free', 'Cocoa', 'Butter', 'Cream', 'Milk', 'Cocoa', 'Mass', 'Soy', 'Lecithin', 'Vanilla', 'may', 'contain', 'traces', 'various', 'nuts', 'Statements', 'regarding', 'dietary', 'supplements', 'evaluated', 'FDA', 'intended', 'diagnose', 'treat', 'cure', 'prevent', 'disease', 'health', 'condition']\n"
          ]
        },
        {
          "output_type": "stream",
          "name": "stderr",
          "text": [
            "\r 18%|█▊        | 2/11 [00:18<01:32, 10.28s/it]"
          ]
        },
        {
          "output_type": "stream",
          "name": "stdout",
          "text": [
            "\n",
            "For category: meta_Sports_and_Outdoors.json Sample Product Description: ['These', 'good', 'general', 'purpose', 'glasses', 'They', 'provide', 'good', 'visual', 'acuity', 'excellent', 'glare', 'protection', 'Very', 'useful', 'Retinitis', 'Pigmentosa', 'diabetic', 'retinopathy', 'pre', 'cataract', 'glaucoma', 'These', 'glasses', 'provide', 'light', 'transmission', 'blue', 'light', 'infrared', 'transmissionFeatures', 'Color', 'Medium', 'Amber', 'Filters', 'Protection', 'SideShield', 'brow', 'protection', 'Universal', 'size', 'faces', 'framesFrame', 'Dimensions', 'Sizing', 'Inside', 'Outside', 'Temple', 'Eye', 'mmManufacturer', 'NoIROrigin', 'USAModel']\n"
          ]
        },
        {
          "output_type": "stream",
          "name": "stderr",
          "text": [
            "\r 27%|██▋       | 3/11 [00:19<00:48,  6.08s/it]"
          ]
        },
        {
          "output_type": "stream",
          "name": "stdout",
          "text": [
            "\n",
            "For category: meta_All_Beauty.json Sample Product Description: ['Kevin', 'Murphy', 'sticky', 'Business', 'Medium', 'hold']\n"
          ]
        },
        {
          "output_type": "stream",
          "name": "stderr",
          "text": [
            "\r 36%|███▋      | 4/11 [00:20<00:29,  4.21s/it]"
          ]
        },
        {
          "output_type": "stream",
          "name": "stdout",
          "text": [
            "\n",
            "For category: meta_AMAZON_FASHION.json Sample Product Description: ['Sparkle', 'Pin', 'Love', 'Jesus', 'bright', 'sparkley', 'colors', 'wonderful', 'wear', 'year', 'around']\n"
          ]
        },
        {
          "output_type": "stream",
          "name": "stderr",
          "text": [
            "100%|██████████| 11/11 [00:24<00:00,  2.25s/it]"
          ]
        },
        {
          "output_type": "stream",
          "name": "stdout",
          "text": [
            "\n",
            "For category: meta_Arts_Crafts_and_Sewing.json Sample Product Description: ['These', 'AllPurpose', 'shears', 'ideal', 'scrapbooking', 'papercrafts', 'part', 'Mundials', 'ergonomic', 'ambidextrous', 'CushionSoft', 'line', 'handles', 'enlarged', 'finger', 'bows', 'cushioned', 'inserts', 'soft', 'touch', 'The', 'stainless', 'steel', 'blades', 'feature', 'microserrated', 'edge', 'ensuring', 'clean', 'cut', 'even', 'sheerest', 'fabrics', 'Ideal', 'crafting', 'enthusiast', 'appreciates', 'comfort', 'quality', 'rolled', 'one', 'BlueLt', 'Blue', 'Handle']\n"
          ]
        },
        {
          "output_type": "stream",
          "name": "stderr",
          "text": [
            "\n"
          ]
        }
      ]
    },
    {
      "cell_type": "code",
      "source": [
        "from gensim.models import FastText\n",
        "\n",
        "model = FastText(vector_size = 25, window = 5, min_count = 5, sentences = product_descriptions, epochs = 1)"
      ],
      "metadata": {
        "id": "6KKmaR63hX5Y"
      },
      "execution_count": 38,
      "outputs": []
    },
    {
      "cell_type": "code",
      "source": [
        "model.save(\"./fast_text_product_descriptions_5000-25-5-5.model\")"
      ],
      "metadata": {
        "id": "AHdx6cQTjNdY"
      },
      "execution_count": 39,
      "outputs": []
    },
    {
      "cell_type": "code",
      "source": [
        "model.wv.most_similar(\"apple\")"
      ],
      "metadata": {
        "colab": {
          "base_uri": "https://localhost:8080/"
        },
        "id": "HFpACl7Kk6ca",
        "outputId": "122588c1-57f5-4d54-daf5-d0e4ad6cfe75"
      },
      "execution_count": 33,
      "outputs": [
        {
          "output_type": "execute_result",
          "data": {
            "text/plain": [
              "[('Apple', 0.9999829530715942),\n",
              " ('hits', 0.9999563097953796),\n",
              " ('replacement', 0.9999547004699707),\n",
              " ('coordinated', 0.9999493360519409),\n",
              " ('replenish', 0.9999470114707947),\n",
              " ('darts', 0.9999464750289917),\n",
              " ('fermented', 0.9999457597732544),\n",
              " ('gets', 0.9999454617500305),\n",
              " ('Decaffeinated', 0.9999440312385559),\n",
              " ('belts', 0.9999421238899231)]"
            ]
          },
          "metadata": {},
          "execution_count": 33
        }
      ]
    },
    {
      "cell_type": "code",
      "source": [
        "model.wv.vector_size"
      ],
      "metadata": {
        "colab": {
          "base_uri": "https://localhost:8080/"
        },
        "id": "FhcrnjbMpjJT",
        "outputId": "5026170b-2361-456a-9272-72cabfb9b9d8"
      },
      "execution_count": 34,
      "outputs": [
        {
          "output_type": "execute_result",
          "data": {
            "text/plain": [
              "25"
            ]
          },
          "metadata": {},
          "execution_count": 34
        }
      ]
    },
    {
      "cell_type": "code",
      "source": [
        "from gensim.models import fasttext\n",
        "fasttext.save_facebook_model(model, \"./fast_text_product_descriptions_10000-25-5-5.bin\")"
      ],
      "metadata": {
        "id": "H33piWFlpu8M"
      },
      "execution_count": 35,
      "outputs": []
    },
    {
      "cell_type": "code",
      "source": [
        "model = fasttext.load_facebook_model(\"./fast_text_product_descriptions_10000-25-5-5.bin\")"
      ],
      "metadata": {
        "id": "jSIkxNjOwpbc"
      },
      "execution_count": 36,
      "outputs": []
    },
    {
      "cell_type": "code",
      "source": [
        "model.wv.most_similar(\"apple\")"
      ],
      "metadata": {
        "colab": {
          "base_uri": "https://localhost:8080/"
        },
        "id": "XFOWfyrqwzVM",
        "outputId": "19f15d9e-7363-48ef-f56f-ba68b365b7c7"
      },
      "execution_count": 37,
      "outputs": [
        {
          "output_type": "execute_result",
          "data": {
            "text/plain": [
              "[('Apple', 0.9999829530715942),\n",
              " ('hits', 0.9999563097953796),\n",
              " ('replacement', 0.9999547004699707),\n",
              " ('coordinated', 0.9999493360519409),\n",
              " ('replenish', 0.9999470114707947),\n",
              " ('darts', 0.9999464750289917),\n",
              " ('fermented', 0.9999457597732544),\n",
              " ('gets', 0.9999454617500305),\n",
              " ('Decaffeinated', 0.9999440312385559),\n",
              " ('belts', 0.9999421238899231)]"
            ]
          },
          "metadata": {},
          "execution_count": 37
        }
      ]
    },
    {
      "cell_type": "markdown",
      "source": [
        "The fastText model seems a bit too big to be stored on Github and has to be generated by the recommendations server if it has to be stored on a Volume in Railway.\n",
        "\n",
        "I'm going to test out if just training a word2vec model on these still does well enough, and whether it is any smaller."
      ],
      "metadata": {
        "id": "8FxGtmKNyP-N"
      }
    },
    {
      "cell_type": "code",
      "source": [
        "from gensim.models import Word2Vec\n",
        "\n",
        "model = Word2Vec(sentences = product_descriptions, vector_size = 25, window = 5, min_count = 5)\n",
        "model.save(\"./word2vec_product_descriptions_10000-25-5-5.model\")"
      ],
      "metadata": {
        "id": "mjxIYr07w05a"
      },
      "execution_count": 41,
      "outputs": []
    },
    {
      "cell_type": "code",
      "source": [
        "from gensim.models import KeyedVectors\n",
        "\n",
        "wv = KeyedVectors.load(\"word2vec_product_descriptions_10000-25-5-5.model\", mmap='r')"
      ],
      "metadata": {
        "id": "p7gzm428y3j8"
      },
      "execution_count": 42,
      "outputs": []
    },
    {
      "cell_type": "code",
      "source": [
        "wv.wv.most_similar(\"apple\")"
      ],
      "metadata": {
        "colab": {
          "base_uri": "https://localhost:8080/"
        },
        "id": "g5L2j9kQzLSL",
        "outputId": "1b93438d-1e34-4e02-fb4b-5202101d570a"
      },
      "execution_count": 44,
      "outputs": [
        {
          "output_type": "execute_result",
          "data": {
            "text/plain": [
              "[('Mix', 0.9916365742683411),\n",
              " ('paste', 0.9915204644203186),\n",
              " ('seeds', 0.9914876818656921),\n",
              " ('onions', 0.9904603958129883),\n",
              " ('potato', 0.990379810333252),\n",
              " ('Delicious', 0.9899361729621887),\n",
              " ('grilled', 0.9893227815628052),\n",
              " ('cardamom', 0.9890508651733398),\n",
              " ('grass', 0.9883642196655273),\n",
              " ('tangy', 0.9881302714347839)]"
            ]
          },
          "metadata": {},
          "execution_count": 44
        }
      ]
    },
    {
      "cell_type": "code",
      "source": [],
      "metadata": {
        "id": "n43TwGO9zNWr"
      },
      "execution_count": null,
      "outputs": []
    }
  ]
}